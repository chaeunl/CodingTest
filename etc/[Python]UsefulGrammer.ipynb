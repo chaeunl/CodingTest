{
 "cells": [
  {
   "cell_type": "markdown",
   "id": "5cabdb5e",
   "metadata": {},
   "source": [
    "decorator\n",
    "lambda\n",
    "break, continue\n",
    "iterator\n",
    "generator\n",
    "ABC"
   ]
  },
  {
   "cell_type": "markdown",
   "id": "b745daf1",
   "metadata": {},
   "source": [
    "### Decorator\n",
    "\n",
    "- 함수를 수정하지 않은 상태에서 추가 기능을 구현할 때 사용\n",
    "- 함수를 입력으로 받아 함수를 출력하는 하나의 함수를 데코레이터로 사용\n",
    "- e.g., 함수를 감싸면서 함수의 처음과 끝에 여러 함수에서 반복되는 구조를 쓸 때 사용 가능"
   ]
  },
  {
   "cell_type": "code",
   "execution_count": 1,
   "id": "06bb0266",
   "metadata": {},
   "outputs": [
    {
     "name": "stdout",
     "output_type": "stream",
     "text": [
      "hello  function start\n",
      "hello\n",
      "hello  function end\n",
      "world  function start\n",
      "world\n",
      "world  function end\n"
     ]
    }
   ],
   "source": [
    "def trace(func):\n",
    "    def wrapper():\n",
    "        print(func.__name__, \" function start\")\n",
    "        func()\n",
    "        print(func.__name__, \" function end\")\n",
    "    return wrapper\n",
    "\n",
    "def hello():\n",
    "    print(\"hello\")\n",
    "    \n",
    "def world():\n",
    "    print(\"world\")\n",
    "    \n",
    "trace_hello = trace(hello)\n",
    "trace_hello()\n",
    "trace_world = trace(world)\n",
    "trace_world()"
   ]
  },
  {
   "cell_type": "code",
   "execution_count": 4,
   "id": "1554c67b",
   "metadata": {},
   "outputs": [
    {
     "name": "stdout",
     "output_type": "stream",
     "text": [
      "hello  function start\n",
      "hello\n",
      "hello function end\n",
      "world  function start\n",
      "world\n",
      "world function end\n"
     ]
    }
   ],
   "source": [
    "def trace(func):\n",
    "    def wrapper():\n",
    "        print(func.__name__, \" function start\")\n",
    "        func()\n",
    "        print(func.__name__, \"function end\")\n",
    "    return wrapper\n",
    "\n",
    "@trace\n",
    "def hello():\n",
    "    print(\"hello\")\n",
    "    \n",
    "@trace\n",
    "def world():\n",
    "    print(\"world\")\n",
    "    \n",
    "hello()\n",
    "world()"
   ]
  },
  {
   "cell_type": "code",
   "execution_count": 8,
   "id": "95181331",
   "metadata": {},
   "outputs": [
    {
     "name": "stdout",
     "output_type": "stream",
     "text": [
      "decorator1\n",
      "decorator2\n",
      "hello\n"
     ]
    }
   ],
   "source": [
    "def decorator1(func):\n",
    "    def wrapper():\n",
    "        print(\"decorator1\")\n",
    "        func()\n",
    "    return wrapper\n",
    "    \n",
    "def decorator2(func):\n",
    "    def wrapper():\n",
    "        print(\"decorator2\")\n",
    "        func()\n",
    "    return wrapper\n",
    "    \n",
    "@decorator1\n",
    "@decorator2\n",
    "def hello():\n",
    "    print(\"hello\")\n",
    "    \n",
    "hello()"
   ]
  },
  {
   "cell_type": "code",
   "execution_count": null,
   "id": "2e130011",
   "metadata": {},
   "outputs": [],
   "source": []
  },
  {
   "cell_type": "code",
   "execution_count": null,
   "id": "f2f5b7f4",
   "metadata": {},
   "outputs": [],
   "source": []
  },
  {
   "cell_type": "code",
   "execution_count": null,
   "id": "d99a9618",
   "metadata": {},
   "outputs": [],
   "source": []
  },
  {
   "cell_type": "code",
   "execution_count": null,
   "id": "99e0ec0e",
   "metadata": {},
   "outputs": [],
   "source": []
  },
  {
   "cell_type": "code",
   "execution_count": null,
   "id": "3836e307",
   "metadata": {},
   "outputs": [],
   "source": []
  },
  {
   "cell_type": "code",
   "execution_count": null,
   "id": "ce011c26",
   "metadata": {},
   "outputs": [],
   "source": []
  },
  {
   "cell_type": "code",
   "execution_count": null,
   "id": "59f320d3",
   "metadata": {},
   "outputs": [],
   "source": []
  },
  {
   "cell_type": "code",
   "execution_count": null,
   "id": "5d1b4949",
   "metadata": {},
   "outputs": [],
   "source": []
  },
  {
   "cell_type": "markdown",
   "id": "67916f24",
   "metadata": {},
   "source": [
    "## Lambda\n",
    "\n",
    "- lambda expression (람다 표현식) 이라고 부르며, 함수를 간편하게 작성\n",
    "- 주로 map과 함께 사용하여 함수의 인수 부분을 간단하게 만들기 위해 사용\n",
    "- filter(함수, 반복 가능한 객체)\n",
    "- reduce(함수, 반복 가능한 객체)"
   ]
  },
  {
   "cell_type": "code",
   "execution_count": 4,
   "id": "840d95d1",
   "metadata": {},
   "outputs": [
    {
     "name": "stdout",
     "output_type": "stream",
     "text": [
      "1 + 10 by a function: 11\n",
      "1 + 10 by a lambda expression: 11\n"
     ]
    }
   ],
   "source": [
    "obj = 1\n",
    "\n",
    "def plus_ten_func(x):\n",
    "    return x+10\n",
    "\n",
    "plus_ten_lamb = lambda x:x+10\n",
    "\n",
    "result_func = plus_ten_func(obj)\n",
    "result_lamb = plus_ten_lamb(obj)\n",
    "\n",
    "print(f\"1 + 10 by a function: {plus_ten_func(obj)}\")\n",
    "print(f\"1 + 10 by a lambda expression: {plus_ten_lamb(obj)}\")"
   ]
  },
  {
   "cell_type": "code",
   "execution_count": 9,
   "id": "cb529304",
   "metadata": {},
   "outputs": [
    {
     "name": "stdout",
     "output_type": "stream",
     "text": [
      "[1,2,3] + 10 by a function with a map: [11, 12, 13]\n",
      "[1,2,3] + 10 by a lambda expression with a map: [11, 12, 13]\n"
     ]
    }
   ],
   "source": [
    "obj = [1,2,3]\n",
    "\n",
    "plus_ten_funcmap = map(plus_ten_func, obj)\n",
    "plus_ten_lambmap = map(lambda x:x+10, obj)\n",
    "\n",
    "result_funcmap = list(plus_ten_funcmap)\n",
    "result_lambmap = list(plus_ten_lambmap)\n",
    "\n",
    "print(f\"[1,2,3] + 10 by a function with a map: {result_funcmap}\")\n",
    "print(f\"[1,2,3] + 10 by a lambda expression with a map: {result_lambmap}\")"
   ]
  },
  {
   "cell_type": "code",
   "execution_count": 11,
   "id": "957a90f5",
   "metadata": {},
   "outputs": [
    {
     "name": "stdout",
     "output_type": "stream",
     "text": [
      "a lambda expression without parameters: trivial\n"
     ]
    }
   ],
   "source": [
    "obj = \"trivial\"\n",
    "\n",
    "print(f\"a lambda expression without parameters: {(lambda :obj)()}\")"
   ]
  },
  {
   "cell_type": "code",
   "execution_count": 17,
   "id": "4a998914",
   "metadata": {},
   "outputs": [
    {
     "name": "stdout",
     "output_type": "stream",
     "text": [
      "convert numbers in [1, 2, 3, 4, 5, 6, 7, 8, 9, 10] which are multipliers of 3 with string: [1, 2, '3', 4, 5, '6', 7, 8, '9', 10]\n"
     ]
    }
   ],
   "source": [
    "obj = list(range(1,11,1))\n",
    "\n",
    "convert_3x_as_string = map(lambda x:str(x) if x % 3 == 0 else x, obj)\n",
    "\n",
    "print(f\"convert numbers in {obj} which are multipliers of 3 with string: {list(convert_3x_as_string)}\")"
   ]
  },
  {
   "cell_type": "code",
   "execution_count": 15,
   "id": "55209462",
   "metadata": {},
   "outputs": [
    {
     "name": "stdout",
     "output_type": "stream",
     "text": [
      "pairwise multiplication of [1, 2, 3] and [-1, -2, -3]: [-1, -4, -9]\n"
     ]
    }
   ],
   "source": [
    "obj_a = list(range(1,4,1))\n",
    "obj_b = list(range(-1,-4,-1))\n",
    "\n",
    "pairwise_mult = map(lambda x,y:x*y, obj_a, obj_b)\n",
    "\n",
    "print(f\"pairwise multiplication of {obj_a} and {obj_b}: {list(pairwise_mult)}\")"
   ]
  },
  {
   "cell_type": "code",
   "execution_count": 19,
   "id": "12d5bb53",
   "metadata": {},
   "outputs": [
    {
     "name": "stdout",
     "output_type": "stream",
     "text": [
      "[7, 9]\n",
      "[7, 9]\n"
     ]
    }
   ],
   "source": [
    "obj = list(range(1,15,2))\n",
    "\n",
    "def cut_range(x):\n",
    "    return x > 5 and x < 10\n",
    "\n",
    "cut_range_funcfilter = filter(cut_range, obj)\n",
    "cut_range_lambfilter = filter(lambda x: x >5 and x < 10, obj)\n",
    "\n",
    "print(f\"{list(cut_range_funcfilter)}\")\n",
    "print(f\"{list(cut_range_lambfilter)}\")"
   ]
  },
  {
   "cell_type": "code",
   "execution_count": 23,
   "id": "d91e0d10",
   "metadata": {},
   "outputs": [
    {
     "name": "stdout",
     "output_type": "stream",
     "text": [
      "[1, 2, 3, 4, 5]\n",
      "15\n",
      "15\n"
     ]
    }
   ],
   "source": [
    "obj = list(range(1,6,1))\n",
    "\n",
    "from functools import reduce\n",
    "\n",
    "def add_all(x, y):\n",
    "    return x+y\n",
    "\n",
    "add_all_funcreduce = reduce(add_all, obj)\n",
    "add_all_lambreduce = reduce(lambda x,y:x+y, obj)\n",
    "\n",
    "print(f\"{add_all_funcreduce}\")\n",
    "print(f\"{add_all_lambreduce}\")"
   ]
  },
  {
   "cell_type": "code",
   "execution_count": 25,
   "id": "3f412715",
   "metadata": {},
   "outputs": [
    {
     "name": "stdout",
     "output_type": "stream",
     "text": [
      "[8, 7, 9]\n",
      "[8, 7, 9]\n"
     ]
    }
   ],
   "source": [
    "obj = [8,3,2,10,15,7,1,9,0,11]\n",
    "\n",
    "list_exp = [x for x in obj if x > 5 and x < 10]\n",
    "lamb_exp = list(filter(lambda x: x>5 and x<10, obj))\n",
    "\n",
    "print(f\"{list_exp}\")\n",
    "print(f\"{lamb_exp}\")"
   ]
  },
  {
   "cell_type": "code",
   "execution_count": null,
   "id": "8b0ad4c6",
   "metadata": {},
   "outputs": [],
   "source": []
  },
  {
   "cell_type": "code",
   "execution_count": null,
   "id": "02bf8115",
   "metadata": {},
   "outputs": [],
   "source": []
  }
 ],
 "metadata": {
  "kernelspec": {
   "display_name": "Python 3 (ipykernel)",
   "language": "python",
   "name": "python3"
  },
  "language_info": {
   "codemirror_mode": {
    "name": "ipython",
    "version": 3
   },
   "file_extension": ".py",
   "mimetype": "text/x-python",
   "name": "python",
   "nbconvert_exporter": "python",
   "pygments_lexer": "ipython3",
   "version": "3.10.0"
  }
 },
 "nbformat": 4,
 "nbformat_minor": 5
}
