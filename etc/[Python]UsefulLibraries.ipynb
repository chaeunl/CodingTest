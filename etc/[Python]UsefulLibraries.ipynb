{
 "cells": [
  {
   "cell_type": "markdown",
   "id": "86758dd3",
   "metadata": {},
   "source": [
    "1. from collections  deque\n",
    "2. heapq\n",
    "3. set"
   ]
  },
  {
   "cell_type": "markdown",
   "id": "11a6c809",
   "metadata": {},
   "source": [
    "### Deque\n",
    "\n",
    "1. Time complexity (VS List):\n",
    " * pop, append: O(1)\n",
    " * remove: O(n)"
   ]
  },
  {
   "cell_type": "code",
   "execution_count": 1,
   "id": "d7ebf0fa",
   "metadata": {},
   "outputs": [
    {
     "name": "stdout",
     "output_type": "stream",
     "text": [
      "Deq:  deque([5, 10, 0])\n",
      "Rotated by 2:  deque([10, 0, 5])\n",
      "Extended right by [3,4]:  deque([10, 0, 5, 3, 4])\n",
      "Extended lefy by [-1,-2]:  deque([-2, -1, 10, 0, 5, 3, 4])\n",
      "Rotated by -1:  deque([-1, 10, 0, 5, 3, 4, -2])\n",
      "-2\n",
      "Right popped:  deque([-1, 10, 0, 5, 3, 4])\n",
      "Left popped:  deque([10, 0, 5, 3, 4])\n",
      "Remove 5:  deque([10, 0, 3, 4])\n"
     ]
    }
   ],
   "source": [
    "from collections import deque # 양방향 큐\n",
    "\n",
    "deq = deque()\n",
    "\n",
    "deq.appendleft(10) # [10]\n",
    "deq.append(0) # [10,0]\n",
    "deq.appendleft(5) #[5,10,0]\n",
    "print(\"Deq: \", deq)\n",
    "\n",
    "deq.rotate(2)\n",
    "print(\"Rotated by 2: \", deq)\n",
    "\n",
    "deq.extend([3,4])\n",
    "print(\"Extended right by [3,4]: \", deq)\n",
    "\n",
    "deq.extendleft([-1,-2])\n",
    "print(\"Extended lefy by [-1,-2]: \", deq)\n",
    "\n",
    "deq.rotate(-1)\n",
    "print(\"Rotated by -1: \", deq)\n",
    "\n",
    "print(deq.pop())\n",
    "print(\"Right popped: \", deq)\n",
    "\n",
    "deq.popleft()\n",
    "print(\"Left popped: \", deq)\n",
    "\n",
    "deq.remove(5)\n",
    "print(\"Remove 5: \", deq)"
   ]
  },
  {
   "cell_type": "markdown",
   "id": "70ca0b30",
   "metadata": {},
   "source": [
    "## Heapq\n",
    "\n",
    "1. Time complexity:\n",
    " * heapify: O(n*log n)\n",
    "2. 참고:\n",
    " * https://www.daleseo.com/python-heapq/"
   ]
  },
  {
   "cell_type": "code",
   "execution_count": 27,
   "id": "7e610f43",
   "metadata": {},
   "outputs": [
    {
     "name": "stdout",
     "output_type": "stream",
     "text": [
      "Heapify: [0, 2, 1, 3]\n",
      "Heappush -1: [-1, 0, 1, 3, 2]\n",
      "Heappop:  [0, 2, 1, 3]\n",
      "Least value:  0\n",
      "Max heap:  [4, 1, 7, 3, 8, 5]\n",
      "Reorganize heap as tuple:  [(-8, 8), (-7, 7), (-5, 5), (-1, 1), (-3, 3), (-4, 4)]\n",
      "8\n",
      "7\n",
      "5\n",
      "4\n",
      "3\n",
      "1\n"
     ]
    }
   ],
   "source": [
    "import heapq as hq\n",
    "\n",
    "h = [2,3,1,0]\n",
    "\n",
    "hq.heapify(h)\n",
    "print(\"Heapify:\", h)\n",
    "\n",
    "hq.heappush(h, -1)\n",
    "print(\"Heappush -1:\", h)\n",
    "\n",
    "hq.heappop(h)\n",
    "print(\"Heappop: \", h)\n",
    "\n",
    "print(\"Least value: \", h[0])\n",
    "\n",
    "nums = [4, 1, 7, 3, 8, 5]\n",
    "heap = []\n",
    "print(\"Max heap: \", nums)\n",
    "\n",
    "for num in nums:\n",
    "    hq.heappush(heap, (-num, num))  # (우선 순위, 값)\n",
    "print(\"Reorganize heap as tuple: \", heap)\n",
    "    \n",
    "while heap:\n",
    "    print(hq.heappop(heap)[1])  # index 1"
   ]
  },
  {
   "cell_type": "markdown",
   "id": "c3b70279",
   "metadata": {},
   "source": [
    "## Set\n",
    "\n",
    "1. Time complexity:\n",
    "2. Reference:\n",
    " * https://wikidocs.net/1015"
   ]
  },
  {
   "cell_type": "code",
   "execution_count": 34,
   "id": "d98ee392",
   "metadata": {},
   "outputs": [
    {
     "name": "stdout",
     "output_type": "stream",
     "text": [
      "{1, 2, 3}\n",
      "{'o', 'h', 'l', 'e'}\n",
      "['o', 'h', 'l', 'e']\n",
      "('o', 'h', 'l', 'e')\n",
      "{3, 4} {1, 2, 3, 4, 5, 6} {1}\n",
      "{3, 4} {1, 2, 3, 4, 5, 6} {1}\n",
      "{1, 3, 4}\n"
     ]
    }
   ],
   "source": [
    "s1 = set([1,2,3])\n",
    "print(s)\n",
    "s_string = set(\"hello\")\n",
    "print(s_string)\n",
    "print(list(s_string))\n",
    "print(tuple(s_string))\n",
    "\n",
    "s2 = set([3,4,5])\n",
    "\n",
    "s1.add(4)\n",
    "s2.update([2,6])\n",
    "s1.remove(2)\n",
    "print(s1 & s2, s1 | s2, s1-s2)\n",
    "print(s1.intersection(s2), s1.union(s2), s1.difference(s2))"
   ]
  },
  {
   "cell_type": "code",
   "execution_count": null,
   "id": "5311156c",
   "metadata": {},
   "outputs": [],
   "source": []
  }
 ],
 "metadata": {
  "kernelspec": {
   "display_name": "Python 3 (ipykernel)",
   "language": "python",
   "name": "python3"
  },
  "language_info": {
   "codemirror_mode": {
    "name": "ipython",
    "version": 3
   },
   "file_extension": ".py",
   "mimetype": "text/x-python",
   "name": "python",
   "nbconvert_exporter": "python",
   "pygments_lexer": "ipython3",
   "version": "3.10.0"
  }
 },
 "nbformat": 4,
 "nbformat_minor": 5
}
