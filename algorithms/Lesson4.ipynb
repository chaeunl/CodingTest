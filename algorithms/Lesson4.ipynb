{
 "cells": [
  {
   "cell_type": "markdown",
   "metadata": {},
   "source": [
    "## 4.1 FrogRiverOne"
   ]
  },
  {
   "cell_type": "code",
   "execution_count": null,
   "metadata": {},
   "outputs": [],
   "source": [
    "def solution(X, A):\n",
    "    t_end = -1\n",
    "    c = {}\n",
    "\n",
    "    for idx, i in enumerate(A):\n",
    "        c[i-1] = 1\n",
    "        if idx + 1 >= X and len(c) >= X:\n",
    "            t_end = idx\n",
    "            return t_end\n",
    "\n",
    "    return t_end"
   ]
  },
  {
   "cell_type": "markdown",
   "metadata": {},
   "source": [
    "* time complexity = O(N)"
   ]
  },
  {
   "cell_type": "markdown",
   "metadata": {},
   "source": [
    "## 4.2 MaxCounters *"
   ]
  },
  {
   "cell_type": "code",
   "execution_count": null,
   "metadata": {},
   "outputs": [],
   "source": [
    "def solution(N, A):\n",
    "    counter = [0] * (N+1)\n",
    "    max_count = 0\n",
    "    min_count = 0\n",
    "\n",
    "    for key in A:\n",
    "        if key < (N + 1):\n",
    "            if counter[key] < min_count:\n",
    "                counter[key] = min_count\n",
    "            counter[key] += 1\n",
    "            if counter[key] > max_count:\n",
    "                max_count = counter[key]\n",
    "        else:\n",
    "            min_count = max_count\n",
    "    \n",
    "    for key, val in enumerate(counter):\n",
    "        if val < min_count:\n",
    "            counter[key] = min_count\n",
    "\n",
    "    return counter[1:]"
   ]
  },
  {
   "cell_type": "markdown",
   "metadata": {},
   "source": [
    "* Without 16 - 18 lines, the worst case (all max_counter operations) will result in O(N) timecomplexity. If N >> M (=len(A)), it requires higher computation\n",
    "* time complexity = min(O(N), O(M))"
   ]
  },
  {
   "cell_type": "markdown",
   "metadata": {},
   "source": [
    "## 4.4 PermCheck"
   ]
  },
  {
   "cell_type": "code",
   "execution_count": null,
   "metadata": {},
   "outputs": [],
   "source": [
    "def solution(A):\n",
    "    counter = [0] * len(A)\n",
    "    for i in A:\n",
    "        if i > len(A):\n",
    "            return 0\n",
    "        else:\n",
    "            counter[i-1] = 1\n",
    "\n",
    "    if sum(counter) == len(A):\n",
    "        return 1\n",
    "    return 0\n",
    "# large range: 0.14sec"
   ]
  },
  {
   "cell_type": "code",
   "execution_count": null,
   "metadata": {},
   "outputs": [],
   "source": [
    "def solution(A):\n",
    "    if not len(A):\n",
    "        return 0\n",
    "    \n",
    "    hits = {}\n",
    "    for item in A:\n",
    "# case 1: overlapped\n",
    "        if item in hits:\n",
    "            return 0\n",
    "        hits[item] = True\n",
    "\n",
    "# case 2: check if the key in hits is out of the allowed range. \n",
    "    for num in range(len(A)):\n",
    "        if (num+1) not in hits:\n",
    "            return 0\n",
    "    return 1"
   ]
  },
  {
   "cell_type": "code",
   "execution_count": 2,
   "metadata": {},
   "outputs": [
    {
     "data": {
      "text/plain": [
       "True"
      ]
     },
     "execution_count": 2,
     "metadata": {},
     "output_type": "execute_result"
    }
   ],
   "source": [
    "a = []\n",
    "not len(a)"
   ]
  },
  {
   "cell_type": "code",
   "execution_count": null,
   "metadata": {},
   "outputs": [],
   "source": []
  }
 ],
 "metadata": {
  "kernelspec": {
   "display_name": "Python 3",
   "language": "python",
   "name": "python3"
  },
  "language_info": {
   "codemirror_mode": {
    "name": "ipython",
    "version": 3
   },
   "file_extension": ".py",
   "mimetype": "text/x-python",
   "name": "python",
   "nbconvert_exporter": "python",
   "pygments_lexer": "ipython3",
   "version": "3.8.5"
  }
 },
 "nbformat": 4,
 "nbformat_minor": 4
}
