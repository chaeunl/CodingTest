{
 "cells": [
  {
   "cell_type": "code",
   "execution_count": null,
   "metadata": {},
   "outputs": [],
   "source": []
  },
  {
   "cell_type": "markdown",
   "metadata": {},
   "source": [
    "## 11.1 Sieve of Eratosthenes\n",
    "\n",
    "Notice that we don't have to cross out multiples of $i$ which are less than $i^2$: e.g., if $i=3 $, we don't have to scan over the number, $x$, in $i<x<i^2$."
   ]
  },
  {
   "cell_type": "code",
   "execution_count": 1,
   "metadata": {},
   "outputs": [],
   "source": [
    "def sieve(n):\n",
    "    sieve = [True] * (n + 1)\n",
    "    sieve[0] = sieve[1] = False\n",
    "    \n",
    "    i=2\n",
    "    while (i*i <= n):\n",
    "        if sieve[i] is True:\n",
    "            k = i*i\n",
    "            while (k <= n):\n",
    "                sieve[k] = False\n",
    "                k = k + i\n",
    "        i = i+1\n",
    "        \n",
    "    prime_nums = [i for i, x in enumerate(sieve) if x]\n",
    "\n",
    "    return prime_nums"
   ]
  },
  {
   "cell_type": "code",
   "execution_count": 2,
   "metadata": {},
   "outputs": [
    {
     "data": {
      "text/plain": [
       "[2, 3, 5, 7, 11, 13, 17]"
      ]
     },
     "execution_count": 2,
     "metadata": {},
     "output_type": "execute_result"
    }
   ],
   "source": [
    "sieve(17)"
   ]
  },
  {
   "cell_type": "markdown",
   "metadata": {},
   "source": [
    "## 11.2 Factorization\n",
    "\n",
    "The process of decomposition into prime factors. For the given $n$, we want to find $p_{1}, p_{2}, .., p_{k}$ such that $n=p_{1}^{q_{1}} \\cdot p_{2}^{q_{2}} \\cdot ... \\cdot p_{k}^{q_{k}}.$ "
   ]
  },
  {
   "cell_type": "code",
   "execution_count": 13,
   "metadata": {},
   "outputs": [],
   "source": [
    "def MinPrimeArray(n):\n",
    "    MP = [0] * (n + 1)\n",
    "    i = 2\n",
    "    while (i*i <= n):\n",
    "        if MP[i] == 0:\n",
    "            k = i*i\n",
    "            while k <= n:\n",
    "                if MP[k] == 0:\n",
    "                    MP[k] = i\n",
    "                k += i\n",
    "        i += 1\n",
    "    return MP\n",
    "\n",
    "def Factorization(n):\n",
    "    MP = MinPrimeArray(n)\n",
    "    PrimeFactor = []\n",
    "    \n",
    "    while MP[n] > 0:\n",
    "        PrimeFactor += [MP[n]]\n",
    "        n = int(n/MP[n])\n",
    "    PrimeFactor += [n]\n",
    "    return PrimeFactor"
   ]
  },
  {
   "cell_type": "code",
   "execution_count": 15,
   "metadata": {},
   "outputs": [
    {
     "data": {
      "text/plain": [
       "[2, 2, 3]"
      ]
     },
     "execution_count": 15,
     "metadata": {},
     "output_type": "execute_result"
    }
   ],
   "source": [
    "Factorization(12)"
   ]
  },
  {
   "cell_type": "code",
   "execution_count": null,
   "metadata": {},
   "outputs": [],
   "source": []
  },
  {
   "cell_type": "code",
   "execution_count": null,
   "metadata": {},
   "outputs": [],
   "source": []
  },
  {
   "cell_type": "code",
   "execution_count": null,
   "metadata": {},
   "outputs": [],
   "source": []
  },
  {
   "cell_type": "code",
   "execution_count": null,
   "metadata": {},
   "outputs": [],
   "source": []
  },
  {
   "cell_type": "code",
   "execution_count": null,
   "metadata": {},
   "outputs": [],
   "source": []
  },
  {
   "cell_type": "code",
   "execution_count": null,
   "metadata": {},
   "outputs": [],
   "source": []
  },
  {
   "cell_type": "code",
   "execution_count": null,
   "metadata": {},
   "outputs": [],
   "source": []
  }
 ],
 "metadata": {
  "kernelspec": {
   "display_name": "Python 3 (ipykernel)",
   "language": "python",
   "name": "python3"
  },
  "language_info": {
   "codemirror_mode": {
    "name": "ipython",
    "version": 3
   },
   "file_extension": ".py",
   "mimetype": "text/x-python",
   "name": "python",
   "nbconvert_exporter": "python",
   "pygments_lexer": "ipython3",
   "version": "3.10.0"
  }
 },
 "nbformat": 4,
 "nbformat_minor": 4
}
