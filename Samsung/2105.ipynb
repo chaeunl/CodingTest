{
 "cells": [
  {
   "cell_type": "markdown",
   "metadata": {},
   "source": [
    "친구들과 디저트 카페 투어를 할 계획이다. \n",
    "[Fig. 1]과 같이 한 변의 길이가 N인 정사각형 모양을 가진 지역에 디저트 카페가 모여 있다.\n",
    " \n",
    "\n",
    "\n",
    "\n",
    "원 안의 숫자는 해당 디저트 카페에서 팔고 있는 디저트의 종류를 의미하고\n",
    "카페들 사이에는 대각선 방향으로 움직일 수 있는 길들이 있다.\n",
    "\n",
    "디저트 카페 투어는 어느 한 카페에서 출발하여\n",
    "[Fig. 2]와 같이 대각선 방향으로 움직이고 사각형 모양을 그리며 출발한 카페로 돌아와야 한다.\n",
    " \n",
    " \n",
    "\n",
    "\n",
    "디저트 카페 투어를 하는 도중 해당 지역을 벗어나면 안 된다.\n",
    "또한, 친구들은 같은 종류의 디저트를 다시 먹는 것을 싫어한다.\n",
    "즉, [Fig. 3]과 같이 카페 투어 중에 같은 숫자의 디저트를 팔고 있는 카페가 있으면 안 된다.\n",
    " \n",
    " \n",
    "\n",
    "\n",
    "\n",
    "[Fig. 4]와 같이 하나의 카페에서 디저트를 먹는 것도 안 된다.\n",
    "\n",
    " \n",
    "\n",
    "\n",
    "[Fig. 5]와 같이 왔던 길을 다시 돌아가는 것도 안 된다.\n",
    " \n",
    "\n",
    " \n",
    "\n",
    "친구들과 디저트를 되도록 많이 먹으려고 한다.\n",
    "\n",
    "디저트 가게가 모여있는 지역의 한 변의 길이 N과 디저트 카페의 디저트 종류가 입력으로 주어질 때,\n",
    "임의의 한 카페에서 출발하여 대각선 방향으로 움직이고\n",
    "서로 다른 디저트를 먹으면서 사각형 모양을 그리며 다시 출발점으로 돌아오는 경우,\n",
    "디저트를 가장 많이 먹을 수 있는 경로를 찾고, 그 때의 디저트 수를 정답으로 출력하는 프로그램을 작성하라.\n",
    "\n",
    "만약, 디저트를 먹을 수 없는 경우 -1을 출력한다.\n",
    "\n",
    "\n",
    "[예시]\n",
    "\n",
    "한 변의 길이 N이 4인 지역에 디저트 카페가 [Fig. 6]과 같이 있다고 생각하자.\n",
    " \n",
    "\n",
    "\n",
    "\n",
    "디저트 카페 투어가 가능한 경우는 [Fig. 7]과 같이 5가지로 나눌 수 있다.\n",
    "(출발한 곳과 도는 방향은 다를 수 있지만, 디저트 카페 투어의 경로가 그리는 사각형 모양은 5가지 중 하나이다.)\n",
    "\n",
    " \n",
    "\n",
    "[Fig. 7]\n",
    " \n",
    "이 중에 디저트를 가장 많이 먹을 수 있는 경우는 ⑤인 경우로 디저트의 종류는 6개이다.\n",
    "따라서, 정답은 6이 된다.\n",
    "\n",
    "\n",
    "[제약사항]\n",
    "\n",
    "1. 시간제한 : 최대 50개 테스트 케이스를 모두 통과하는 데 C/C++/Java 모두 3초\n",
    "2. 디저트 카페가 모여있는 지역의 한 변의 길이 N은 4 이상 20 이하의 정수이다. (4 ≤ N ≤ 20)\n",
    "3. 디저트 종류를 나타나는 수는 1 이상 100 이하의 정수이다.\n",
    "\n",
    "\n",
    "[입력]\n",
    "\n",
    "입력의 맨 첫 줄에는 총 테스트 케이스의 개수 T가 주어지고, 그 다음 줄부터 T개의 테스트 케이스가 주어진다.\n",
    "각 테스트 케이스의 첫 번째 줄에는 디저트 카페가 모여있는 지역의 한 변의 길이 N이 주어진다.\n",
    "그 다음 N 줄에는 N * N 크기의 디저트 카페에서 팔고 있는 디저트 종류에 대한 정보가 주어진다.\n",
    "\n",
    "\n",
    "[출력]\n",
    "\n",
    "테스트 케이스 개수만큼 T개의 줄에 각각의 테스트 케이스에 대한 답을 출력한다.\n",
    "각 줄은 \"#t\"로 시작하고 공백을 하나 둔 다음 정답을 출력한다. (t는 1부터 시작하는 테스트 케이스의 번호이다)\n",
    "출력해야 할 정답은 가능한 경우 중 디저트를 가장 많이 먹을 때의 디저트 수 이다.\n",
    "만약, 디저트를 먹을 수 없는 경우 정답은 -1이다."
   ]
  },
  {
   "cell_type": "code",
   "execution_count": 7,
   "metadata": {},
   "outputs": [
    {
     "ename": "IndentationError",
     "evalue": "expected an indented block (<ipython-input-7-d870a2244587>, line 14)",
     "output_type": "error",
     "traceback": [
      "\u001b[0;36m  File \u001b[0;32m\"<ipython-input-7-d870a2244587>\"\u001b[0;36m, line \u001b[0;32m14\u001b[0m\n\u001b[0;31m    def solution(N, maps):\u001b[0m\n\u001b[0m                          ^\u001b[0m\n\u001b[0;31mIndentationError\u001b[0m\u001b[0;31m:\u001b[0m expected an indented block\n"
     ]
    }
   ],
   "source": [
    "import sys\n",
    "import time\n",
    "\n",
    "def clear_visit():\n",
    "    \n",
    "\n",
    "def search(maps, start_point, max_length):\n",
    "    i,j = start_point\n",
    "    for a in range(N):   # redundant search 없앨 수 있음\n",
    "        for b in range(N): # redundant serach 없앨 수 있음\n",
    "            up_bound = (i-a) <= 0\n",
    "            right_bound = (i+a+b) <= N\n",
    "            low_bound = (j-a+b) <= N\n",
    "            length = 2 * (a + b)\n",
    "            if up_bound and right_bound and low_bound and length > max_length:\n",
    "                \n",
    "                \n",
    "                \n",
    "    return max_length\n",
    "            \n",
    "def solution(N, maps):\n",
    "    max_length = -1\n",
    "    for i in range(N):\n",
    "        for j in range(N):\n",
    "            start_point = (i,j)\n",
    "            max_length = search(maps, start_point, max_length)\n",
    "                    \n",
    "\n",
    "sys.stdin = open(\"2105_input.txt\", \"r\")\n",
    "\n",
    "T = int(sys.stdin.readline().strip(\"\\n\"))\n",
    "\n",
    "for test_case in range(1, T + 1):\n",
    "    N = int(sys.stdin.readline().strip(\"\\n\").split(\" \")[0])\n",
    "    maps = [[0]*N for _ in range(N)]\n",
    "    \n",
    "    for i in range(N):\n",
    "        ith_row = sys.stdin.readline().strip(\"\\n\").split(\" \")\n",
    "        for j in range(N):\n",
    "            maps[i][j] = int(ith_row[j])\n",
    "            solution(N, maps)"
   ]
  },
  {
   "cell_type": "code",
   "execution_count": 6,
   "metadata": {},
   "outputs": [
    {
     "data": {
      "text/plain": [
       "[[9, 8, 9, 8], [4, 6, 9, 4], [8, 7, 7, 8], [4, 5, 3, 5]]"
      ]
     },
     "execution_count": 6,
     "metadata": {},
     "output_type": "execute_result"
    }
   ],
   "source": [
    "maps"
   ]
  },
  {
   "cell_type": "code",
   "execution_count": null,
   "metadata": {},
   "outputs": [],
   "source": []
  },
  {
   "cell_type": "code",
   "execution_count": null,
   "metadata": {},
   "outputs": [],
   "source": []
  }
 ],
 "metadata": {
  "kernelspec": {
   "display_name": "Python 3",
   "language": "python",
   "name": "python3"
  },
  "language_info": {
   "codemirror_mode": {
    "name": "ipython",
    "version": 3
   },
   "file_extension": ".py",
   "mimetype": "text/x-python",
   "name": "python",
   "nbconvert_exporter": "python",
   "pygments_lexer": "ipython3",
   "version": "3.8.5"
  }
 },
 "nbformat": 4,
 "nbformat_minor": 4
}
