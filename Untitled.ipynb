{
 "cells": [
  {
   "cell_type": "code",
   "execution_count": 97,
   "metadata": {},
   "outputs": [],
   "source": [
    "# you can write to stdout for debugging purposes, e.g.\n",
    "# print(\"this is a debug message\")\n",
    "\n",
    "def solution(S):\n",
    "    N, M = len(S), len(S[0])\n",
    "\n",
    "    for char_idx in range(M):\n",
    "        alpha = [-1] * 26\n",
    "         # Pigeonhole principle     \n",
    "        if N > 26:\n",
    "            for str_idx in range(N):\n",
    "                curr = ord(S[str_idx][0]) - 97 \n",
    "                if alpha[curr] < 0:\n",
    "                    alpha[curr] = str_idx\n",
    "                else:\n",
    "                    return [alpha[curr], str_idx, 0]\n",
    "            return []\n",
    "        # Brute-force search\n",
    "        else:\n",
    "            for str_idx in range(N):\n",
    "                curr = ord(S[str_idx][char_idx]) - 97\n",
    "                if alpha[curr] < 0:\n",
    "                    alpha[curr] = str_idx\n",
    "                else:\n",
    "                    return [alpha[curr], str_idx, char_idx]\n",
    "    return []"
   ]
  },
  {
   "cell_type": "code",
   "execution_count": 103,
   "metadata": {},
   "outputs": [
    {
     "data": {
      "text/plain": [
       "[0, 26, 0]"
      ]
     },
     "execution_count": 103,
     "metadata": {},
     "output_type": "execute_result"
    }
   ],
   "source": [
    "s = ['a', 'b', 'c', 'd', 'e', 'f', 'g', 'h', 'i', 'j', 'k', 'l', 'm', 'n', 'o', 'p', 'q', 'r', 's', 't', 'u', 'v', 'w', 'x', 'y', 'z', \"a\"]\n",
    "solution(s)"
   ]
  },
  {
   "cell_type": "code",
   "execution_count": 114,
   "metadata": {},
   "outputs": [],
   "source": [
    "# you can write to stdout for debugging purposes, e.g.\n",
    "# print(\"this is a debug message\")\n",
    "\n",
    "def solution(S):\n",
    "    n = len(S)\n",
    "    S = list(map(int,S))\n",
    "    total_sum = sum(S)\n",
    "    # candid[0]->[0,3,6,9], candid[1]->[1,4,7], candid[2]->[2,5,8]\n",
    "    candid = [4,3,3]\n",
    "    if total_sum % 3 == 0:\n",
    "        count = -n+1\n",
    "    else:\n",
    "        count = 0\n",
    "\n",
    "    for digit in range(n):\n",
    "        partial_sum = total_sum - S[digit] \n",
    "        div = partial_sum % 3\n",
    "        count += candid[div]\n",
    "\n",
    "    return count"
   ]
  },
  {
   "cell_type": "code",
   "execution_count": 117,
   "metadata": {},
   "outputs": [
    {
     "data": {
      "text/plain": [
       "10"
      ]
     },
     "execution_count": 117,
     "metadata": {},
     "output_type": "execute_result"
    }
   ],
   "source": [
    "solution(\"000\")"
   ]
  },
  {
   "cell_type": "code",
   "execution_count": 171,
   "metadata": {},
   "outputs": [],
   "source": [
    "# you can write to stdout for debugging purposes, e.g.\n",
    "# print(\"this is a debug message\")\n",
    "\n",
    "def solution(S):\n",
    "    num_a = S.count(\"a\")\n",
    "    n = len(S)\n",
    "\n",
    "    have_solution = num_a % 3\n",
    "    # doesn't have solution\n",
    "    if have_solution != 0 or n == 0:\n",
    "        return 0\n",
    "    \n",
    "    # have the maximum number of solutions: n choose 2 \n",
    "    if num_a == 0:\n",
    "        return int((n-1)*(n-2) / 2) \n",
    "\n",
    "    bars = [0, 0]\n",
    "    extras = [0,0]\n",
    "    per_a = int(num_a/3)\n",
    "    idx = 0\n",
    "    for i in range(2):\n",
    "        count = 0\n",
    "        while count < per_a:\n",
    "            if S[idx] == \"a\":\n",
    "                count += 1\n",
    "            idx += 1\n",
    "        bars[i] = idx \n",
    "    \n",
    "    for i in range(2):\n",
    "        j = 0\n",
    "        while S[bars[i] + j] == \"b\":\n",
    "            extras[i] += 1 \n",
    "            j += 1\n",
    "\n",
    "    sol = 1\n",
    "    for i in range(2):\n",
    "        sol *= (extras[i] + 1)\n",
    "    print(\"extras: \", extras)\n",
    "    print(\"bars:\", bars)\n",
    "    return sol"
   ]
  },
  {
   "cell_type": "code",
   "execution_count": 172,
   "metadata": {},
   "outputs": [
    {
     "name": "stdout",
     "output_type": "stream",
     "text": [
      "extras:  [0, 0]\n",
      "bars: [3, 8]\n"
     ]
    },
    {
     "data": {
      "text/plain": [
       "1"
      ]
     },
     "execution_count": 172,
     "metadata": {},
     "output_type": "execute_result"
    }
   ],
   "source": [
    "solution(\"aaaabbaaabaa\")\n",
    "#solution(\"\")"
   ]
  },
  {
   "cell_type": "code",
   "execution_count": null,
   "metadata": {},
   "outputs": [],
   "source": [
    "# you can write to stdout for debugging purposes, e.g.\n",
    "# print(\"this is a debug message\")\n",
    "\n",
    "def solution(S):\n",
    "    num_a = S.count(\"a\")\n",
    "    n = len(S)\n",
    "\n",
    "    # have the maximum number of solutions: n choose 2 \n",
    "    if num_a == 0:\n",
    "        return int((n-1)*(n-2) / 2) \n",
    "    \n",
    "    have_solution = num_a % 3\n",
    "    \n",
    "    # doesn't have solution\n",
    "    if have_solution != 0:\n",
    "        return 0\n",
    "\n",
    "    bars = [0, 0, 0]\n",
    "    extras = [0,0]\n",
    "    per_a = int(num_a/3)\n",
    "    idx = 0\n",
    "    for i in range(3):\n",
    "        count = 0\n",
    "        while count < per_a:\n",
    "            if S[idx] == \"a\":\n",
    "                count += 1\n",
    "            idx += 1\n",
    "        bars[i] = idx\n",
    "        \n",
    "    for i in range(2):\n",
    "        extras[i] = bars[i+1] - bars[i] - per_a\n",
    "\n",
    "    sol = 1\n",
    "    for i in range(2):\n",
    "        sol *= (extras[i] + 1)\n",
    "    return sol\n",
    "    \n",
    "\n"
   ]
  },
  {
   "cell_type": "code",
   "execution_count": 10,
   "metadata": {},
   "outputs": [
    {
     "data": {
      "text/plain": [
       "[1, 2]"
      ]
     },
     "execution_count": 10,
     "metadata": {},
     "output_type": "execute_result"
    }
   ],
   "source": [
    "[1] + [2]"
   ]
  },
  {
   "cell_type": "code",
   "execution_count": 12,
   "metadata": {},
   "outputs": [
    {
     "name": "stdout",
     "output_type": "stream",
     "text": [
      "yo:  [3] [2, 3]\n",
      "what:  [2, 3]\n",
      "yo:  [2, 3] [1, 2, 3]\n",
      "what:  [1, 2, 3]\n",
      "[1, 2, 3]\n",
      "what:  [2, 1, 3]\n",
      "[2, 1, 3]\n",
      "what:  [2, 3, 1]\n",
      "[2, 3, 1]\n",
      "what:  [3, 2]\n",
      "yo:  [3, 2] [1, 2, 3]\n",
      "what:  [1, 3, 2]\n",
      "[1, 3, 2]\n",
      "what:  [3, 1, 2]\n",
      "[3, 1, 2]\n",
      "what:  [3, 2, 1]\n",
      "[3, 2, 1]\n"
     ]
    }
   ],
   "source": [
    "def all_perms(elements):\n",
    "    if len(elements) <=1:\n",
    "        yield elements\n",
    "    else:\n",
    "        for perm in all_perms(elements[1:]):\n",
    "            print(\"yo: \", perm, elements)\n",
    "            for i in range(len(elements)):\n",
    "                print(\"what: \", perm[:i] + elements[0:1] + perm[i:])\n",
    "                yield perm[:i] + elements[0:1] + perm[i:]\n",
    "\n",
    "for x in all_perms([1,2,3]):\n",
    "    print(x)"
   ]
  },
  {
   "cell_type": "code",
   "execution_count": 4,
   "metadata": {},
   "outputs": [
    {
     "name": "stdout",
     "output_type": "stream",
     "text": [
      "0\n",
      "1\n",
      "2\n"
     ]
    }
   ],
   "source": [
    "def number_generator():\n",
    "    yield 0\n",
    "    yield 1\n",
    "    yield 2\n",
    "\n",
    "for i in number_generator():\n",
    "    print(i)"
   ]
  },
  {
   "cell_type": "code",
   "execution_count": null,
   "metadata": {},
   "outputs": [],
   "source": [
    "class Solution:\n",
    "    def longestPalindrome(self, s: str) -> str:\n",
    "        N = len(s)\n",
    "        if N < 1:\n",
    "            return \"\"\n",
    "        elif N == 1:\n",
    "            return s[0]\n",
    "        \n",
    "        dp = [[False for _ in range(N)] for _ in range(N)]\n",
    "        \n",
    "        for i in range(N-1):\n",
    "            dp[i][i] = True\n",
    "            dp[i][i+1] = True\n",
    "        dp[N-1][N-1] = True\n",
    "            \n",
    "        for i in range(1, N-1):\n",
    "            for j in range(1, min(i, N-i)+1):\n",
    "                if (s[i-j] == s[i+j]) and (dp[i-j+1][i+j-1] == True):\n",
    "                    dp[i+j][i-j] = True\n",
    "                    \n",
    "        if s[N-3] == s[N-1]:\n",
    "            dp[N-3][N-1] = True\n",
    "                    \n",
    "        for i in range(1, N-1):\n",
    "            for j in range(1, min(i, N-1-i)+1):\n",
    "                if (s[i-j] == s[i+1+j]) and (dp[i-j+1][i+1+j-1] == True):\n",
    "                    dp[i+j][i+1-j] = True"
   ]
  },
  {
   "cell_type": "code",
   "execution_count": null,
   "metadata": {},
   "outputs": [],
   "source": []
  },
  {
   "cell_type": "code",
   "execution_count": 15,
   "metadata": {},
   "outputs": [
    {
     "data": {
      "text/plain": [
       "[[3, 2, 1], [2, 3, 1], [3, 1, 2], [1, 3, 2], [2, 1, 3], [1, 2, 3]]"
      ]
     },
     "execution_count": 15,
     "metadata": {},
     "output_type": "execute_result"
    }
   ],
   "source": [
    "def permute(nums):\n",
    "    def dfs(nums):\n",
    "        if not nums: return [[]]\n",
    "        temp = []\n",
    "        for i,val in enumerate(nums):\n",
    "            perms = dfs(nums[:i] + nums[i+1:])\n",
    "            for perm in perms:\n",
    "                perm.append(val)\n",
    "            temp.extend(perms)\n",
    "        return temp\n",
    "    return dfs(nums)\n",
    "\n",
    "permute([1,2,3])"
   ]
  },
  {
   "cell_type": "code",
   "execution_count": 47,
   "metadata": {
    "scrolled": false
   },
   "outputs": [
    {
     "data": {
      "text/plain": [
       "1"
      ]
     },
     "execution_count": 47,
     "metadata": {},
     "output_type": "execute_result"
    }
   ],
   "source": [
    "def solution(s):\n",
    "    l = len(s)\n",
    "    if l <= 1:\n",
    "        return l\n",
    "    \n",
    "    max_sub_string = int(len(s)/2)\n",
    "    max_length = l\n",
    "    global_sol = \"\"\n",
    "    for sub_size in range(1, max_sub_string+1):\n",
    "#    for sub_size in range(1, 3):\n",
    "        n_subs = int(l / sub_size)\n",
    "        \n",
    "        reset_cand = False\n",
    "        cand = s[0:sub_size]\n",
    "        n_iter = 0\n",
    "        sol = \"\"\n",
    "        for i in range(n_subs+1):\n",
    "            start, end = i*sub_size, (i+1)*sub_size\n",
    "                \n",
    "            sub_string = s[start:end]\n",
    "            if cand == sub_string:\n",
    "                n_iter += 1\n",
    "            else:\n",
    "                if n_iter > 1:\n",
    "                    sol += str(n_iter)\n",
    "                    sol += cand\n",
    "                else:\n",
    "                    sol += cand\n",
    "                cand = sub_string\n",
    "                n_iter = 1\n",
    "        if n_iter > 1:\n",
    "            sol += str(n_iter)\n",
    "            sol += cand\n",
    "        else:\n",
    "            sol += cand\n",
    "        \n",
    "        if len(sol) <= max_length:\n",
    "            max_length = len(sol)\n",
    "            global_sol = sol\n",
    "    answer = len(global_sol)\n",
    "    return answer\n",
    "\n",
    "solution(\"a\")"
   ]
  },
  {
   "cell_type": "code",
   "execution_count": null,
   "metadata": {},
   "outputs": [],
   "source": []
  }
 ],
 "metadata": {
  "kernelspec": {
   "display_name": "Python 3 (ipykernel)",
   "language": "python",
   "name": "python3"
  },
  "language_info": {
   "codemirror_mode": {
    "name": "ipython",
    "version": 3
   },
   "file_extension": ".py",
   "mimetype": "text/x-python",
   "name": "python",
   "nbconvert_exporter": "python",
   "pygments_lexer": "ipython3",
   "version": "3.10.0"
  }
 },
 "nbformat": 4,
 "nbformat_minor": 4
}
