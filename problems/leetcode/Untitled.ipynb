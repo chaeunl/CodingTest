{
 "cells": [
  {
   "cell_type": "code",
   "execution_count": 1,
   "id": "ac77eaf3",
   "metadata": {},
   "outputs": [
    {
     "data": {
      "text/plain": [
       "[2, 0, 1, 5, 3, 4]"
      ]
     },
     "execution_count": 1,
     "metadata": {},
     "output_type": "execute_result"
    }
   ],
   "source": [
    "s = [2, 3, 1, 4, 5, 3]\n",
    "sorted(range(len(s)), key=lambda k: s[k])"
   ]
  },
  {
   "cell_type": "code",
   "execution_count": 2,
   "id": "77dc17cb",
   "metadata": {},
   "outputs": [
    {
     "data": {
      "text/plain": [
       "[2, 3, 1, 4, 5, 3]"
      ]
     },
     "execution_count": 2,
     "metadata": {},
     "output_type": "execute_result"
    }
   ],
   "source": [
    "s"
   ]
  },
  {
   "cell_type": "code",
   "execution_count": 32,
   "id": "95aa4a9b",
   "metadata": {},
   "outputs": [],
   "source": [
    "from collections import deque as dq\n",
    "\n",
    "def solution(n, queries):\n",
    "    answer = []\n",
    "    \n",
    "    ques = []\n",
    "    for i in range(n+1):\n",
    "        ques.append(dq())\n",
    "        \n",
    "    indic = 0\n",
    "    for que_idx, number in queries:\n",
    "        if que_idx < 0:\n",
    "            answer.append(ques[n].popleft())\n",
    "            search_all = 0\n",
    "            while not ques[indic % n] and search_all < n:\n",
    "                indic += 1\n",
    "                search_all += 1\n",
    "            if search_all < n:\n",
    "                ques[n].append(ques[indic % n].popleft())\n",
    "            indic += 1\n",
    "        else:\n",
    "            if not ques[n]:\n",
    "                ques[n].append(number)\n",
    "                \n",
    "            else:\n",
    "                ques[que_idx].append(number)\n",
    "    print(ques)\n",
    "    return answer\n",
    "\n"
   ]
  },
  {
   "cell_type": "code",
   "execution_count": 33,
   "id": "1f3c73b1",
   "metadata": {},
   "outputs": [
    {
     "name": "stdout",
     "output_type": "stream",
     "text": [
      "[deque([]), deque([]), deque([]), deque([]), deque([])]\n"
     ]
    },
    {
     "data": {
      "text/plain": [
       "[1, 2, 5, 7, 4, 3, 6, 8, 9, 10, 11, 12]"
      ]
     },
     "execution_count": 33,
     "metadata": {},
     "output_type": "execute_result"
    }
   ],
   "source": [
    "solution(4, [[0,1],[0,2],[0,3],[3,4],[1,5],[1,6],[2,7],[3,8],[1,9],[-1,-1],[-1,-1],[-1,-1],[-1,-1],[-1,-1],[-1,-1],[-1,-1],[-1,-1],[-1,-1],[1,10],[1,11],[-1,-1],[3,12],[-1,-1],[-1,-1]])"
   ]
  },
  {
   "cell_type": "code",
   "execution_count": null,
   "id": "b768c152",
   "metadata": {},
   "outputs": [],
   "source": [
    "def solution(grid, queries):\n",
    "    answer = [[]]\n",
    "    n_rows, n_cols = len(grid), len(grid[0])\n",
    "    \n",
    "    for r1, c1, r2, c2, q_type in queries:\n",
    "        if q_type == -1:\n",
    "            interval = 1\n",
    "            start, end = r1+c1, r2+c2\n",
    "        else:\n",
    "            interval = -1\n",
    "            start, end = r2-c1, r1-c2\n",
    "        for i in range(start, end + interval, interval):\n",
    "            \n",
    "                \n",
    "        \n",
    "    return answer"
   ]
  },
  {
   "cell_type": "code",
   "execution_count": null,
   "id": "10b7fa22",
   "metadata": {},
   "outputs": [],
   "source": []
  },
  {
   "cell_type": "code",
   "execution_count": 62,
   "id": "ad584491",
   "metadata": {},
   "outputs": [],
   "source": [
    "import numpy as np\n",
    "\n",
    "def solution(cards):\n",
    "    answer = 0\n",
    "    \n",
    "    sorted_cards = []\n",
    "    scores = [0] * len(cards)\n",
    "    visited = [False] * len(cards)\n",
    "    \n",
    "    for person_idx, card in enumerate(cards):\n",
    "        sorted_rgb = sorted(range(len(card)), key=lambda k: card[k])\n",
    "        if card[sorted_rgb[0]] == 10:\n",
    "            scores[person_idx] = 10\n",
    "            sorted_rgb = [-1,-1,-1]\n",
    "        else:\n",
    "            scores[person_idx] = card[sorted_rgb[0]]\n",
    "        sorted_cards.append(sorted_rgb)\n",
    "        \n",
    "    print(scores, sorted_cards)\n",
    "    \n",
    "    for idx_a in range(len(cards)):\n",
    "        answer += scores[idx_a]\n",
    "        if sorted_cards[idx_a][0] == -1:\n",
    "            continue\n",
    "        if visited[idx_a]:\n",
    "            continue\n",
    "            \n",
    "        for idx_b in range(idx_a+1, len(cards)):\n",
    "            if visited[idx_a] or visited[idx_b]:\n",
    "                continue\n",
    "            \n",
    "            if sorted_cards[idx_a][0] == sorted_cards[idx_b][0]:\n",
    "                continue\n",
    "            visited[idx_a] = True\n",
    "            visited[idx_b] = True\n",
    "            print(idx_a, idx_b, visited)\n",
    "\n",
    "            answer += 2\n",
    "            \n",
    "        print(answer)\n",
    "\n",
    "    return answer\n",
    "            \n",
    "    "
   ]
  },
  {
   "cell_type": "code",
   "execution_count": 63,
   "id": "89bdc748",
   "metadata": {},
   "outputs": [
    {
     "name": "stdout",
     "output_type": "stream",
     "text": [
      "[5, 5, 9] [[1, 0, 2], [0, 2, 1], [2, 0, 1]]\n",
      "0 1 [True, True, False]\n",
      "7\n",
      "21\n"
     ]
    },
    {
     "data": {
      "text/plain": [
       "21"
      ]
     },
     "execution_count": 63,
     "metadata": {},
     "output_type": "execute_result"
    }
   ],
   "source": [
    "solution([[10, 5, 15], [5, 15, 10], [10, 11, 9]])"
   ]
  },
  {
   "cell_type": "code",
   "execution_count": 50,
   "id": "480e0541",
   "metadata": {},
   "outputs": [
    {
     "name": "stdout",
     "output_type": "stream",
     "text": [
      "0\n",
      "1\n"
     ]
    }
   ],
   "source": [
    "for i in range(3):\n",
    "    if i > 1:\n",
    "        continue\n",
    "    print(i)"
   ]
  },
  {
   "cell_type": "code",
   "execution_count": null,
   "id": "4f4caf01",
   "metadata": {},
   "outputs": [],
   "source": []
  }
 ],
 "metadata": {
  "kernelspec": {
   "display_name": "Python 3 (ipykernel)",
   "language": "python",
   "name": "python3"
  },
  "language_info": {
   "codemirror_mode": {
    "name": "ipython",
    "version": 3
   },
   "file_extension": ".py",
   "mimetype": "text/x-python",
   "name": "python",
   "nbconvert_exporter": "python",
   "pygments_lexer": "ipython3",
   "version": "3.10.0"
  }
 },
 "nbformat": 4,
 "nbformat_minor": 5
}
