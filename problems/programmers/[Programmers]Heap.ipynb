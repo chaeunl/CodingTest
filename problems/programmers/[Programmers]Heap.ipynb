{
 "cells": [
  {
   "cell_type": "markdown",
   "id": "948d5fad",
   "metadata": {},
   "source": [
    "# 더 맵게\n",
    "\n",
    "* URL: https://programmers.co.kr/learn/courses/30/lessons/42626\n",
    "* Level: 2\n",
    "* 참고사항:\n",
    " * .heapq 사용해서 해결!"
   ]
  },
  {
   "cell_type": "code",
   "execution_count": null,
   "id": "cb524236",
   "metadata": {},
   "outputs": [],
   "source": [
    "import heapq\n",
    "\n",
    "def solution(scoville, K):\n",
    "    answer = 0\n",
    "    h = []\n",
    "    \n",
    "    for s in scoville:\n",
    "        heapq.heappush(h, s)\n",
    "\n",
    "    while h[0] < K and len(h) > 1:\n",
    "        min_s = heapq.heappop(h)\n",
    "        min_s2 = heapq.heappop(h)\n",
    "        new_s = min_s + min_s2 * 2\n",
    "        heapq.heappush(h, new_s)\n",
    "        answer += 1\n",
    "        \n",
    "    if h[0] < K:\n",
    "        answer = -1\n",
    "        \n",
    "    return answer"
   ]
  },
  {
   "cell_type": "code",
   "execution_count": null,
   "id": "ba4ec8ab",
   "metadata": {},
   "outputs": [],
   "source": [
    "solution([1, 2, 3, 9, 10, 12], 7)"
   ]
  },
  {
   "cell_type": "code",
   "execution_count": null,
   "id": "22bd72ae",
   "metadata": {},
   "outputs": [],
   "source": [
    "import heapq as hq\n",
    "\n",
    "def solution(scoville, K):\n",
    "\n",
    "    hq.heapify(scoville)\n",
    "    answer = 0\n",
    "    while True:\n",
    "        first = hq.heappop(scoville)\n",
    "        if first >= K:\n",
    "            break\n",
    "        if len(scoville) == 0:\n",
    "            return -1\n",
    "        second = hq.heappop(scoville)\n",
    "        hq.heappush(scoville, first + second*2)\n",
    "        answer += 1  \n",
    "\n",
    "    return answer"
   ]
  },
  {
   "cell_type": "code",
   "execution_count": null,
   "id": "95062221",
   "metadata": {},
   "outputs": [],
   "source": []
  }
 ],
 "metadata": {
  "kernelspec": {
   "display_name": "Python 3 (ipykernel)",
   "language": "python",
   "name": "python3"
  },
  "language_info": {
   "codemirror_mode": {
    "name": "ipython",
    "version": 3
   },
   "file_extension": ".py",
   "mimetype": "text/x-python",
   "name": "python",
   "nbconvert_exporter": "python",
   "pygments_lexer": "ipython3",
   "version": "3.10.0"
  }
 },
 "nbformat": 4,
 "nbformat_minor": 5
}
