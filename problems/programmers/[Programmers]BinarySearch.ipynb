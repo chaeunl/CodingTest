{
 "cells": [
  {
   "cell_type": "markdown",
   "id": "053539ae",
   "metadata": {},
   "source": [
    "## 입국심사"
   ]
  },
  {
   "cell_type": "code",
   "execution_count": 1,
   "id": "7c61b116",
   "metadata": {},
   "outputs": [],
   "source": [
    "def solution(n, times):\n",
    "    answer = 0\n",
    "    \n",
    "    if len(times) < 1:\n",
    "        return 0\n",
    "    if len(times) == 1:\n",
    "        return tiems[0] * n\n",
    "    \n",
    "    left, right = 1, max(times)*n # 총 걸리는 시간에 대한 이분탐색\n",
    "    \n",
    "    while left <= right: # 이분탐색의 종료 조건 2: 이분탐색을 더 이상 진행 불가능\n",
    "        mid = (left + right) // 2\n",
    "        people = 0\n",
    "        for time in times:\n",
    "            people += mid // time\n",
    "            if people >= n:\n",
    "                break\n",
    "                \n",
    "        if people >= n: # 이분탐색의 종료 조건 1: 모든 사람을 검색 \n",
    "            answer = mid\n",
    "            right = mid - 1\n",
    "        else:\n",
    "            left = mid + 1\n",
    "            \n",
    "    return answer"
   ]
  },
  {
   "cell_type": "code",
   "execution_count": 2,
   "id": "69360f3c",
   "metadata": {},
   "outputs": [
    {
     "data": {
      "text/plain": [
       "28"
      ]
     },
     "execution_count": 2,
     "metadata": {},
     "output_type": "execute_result"
    }
   ],
   "source": [
    "solution(6, [7,10])"
   ]
  },
  {
   "cell_type": "markdown",
   "id": "23a42175",
   "metadata": {},
   "source": [
    "## 징검다리"
   ]
  },
  {
   "cell_type": "code",
   "execution_count": 2,
   "id": "af60533b-ec15-43de-9dba-b5d7222deaec",
   "metadata": {},
   "outputs": [],
   "source": [
    "def solution(distance, rocks, n):\n",
    "    rocks.sort()\n",
    "    \n",
    "    s, e, m = 0, distance, 0 # 바위 사이 거리의 최솟값에 대한 이분 탐색. (maxmin 문제)\n",
    "    answer = 0\n",
    "    while s <= e:.\n",
    "        m = (s + e) // 2\n",
    "\n",
    "        rock_cnt, start, flag, backup = 0, 0, True, 0\n",
    "        for rock in rocks:\n",
    "            d = rock - start  #  두 인접한바위 사이의 거리\n",
    "            if d < m: # 최소 거리를 확보하기 위해 최소 거리보다 작으면 바위 부숨\n",
    "                rock_cnt += 1\n",
    "            else:\n",
    "                start, backup = rock, start\n",
    "    \n",
    "        if rocks[-1] == start: # 추가 조건 1. 마지막 돌이 파괴 안되고, 목 적지와의 거리가 m 보다 작을 때 -> 마지막돌 파괴해야함\n",
    "            if distance - start < m:\n",
    "                rock_cnt += 1\n",
    "                start = backup # 스타트의 위치를 백업한 스타트의위치로 갱신해놓기\n",
    "        \n",
    "#        if distance - start < m: # 종점과의 거리가 기준치 m 보다 작을때 --> m 이 더 작아도 똑같이 파괴할수 있다는 뜻\n",
    "#            flag = False # 이 m은 올바른 답이 아니라는 것을 표시\n",
    "        \n",
    "        # rock_cnt : 거리의 최솟값의 최댓값이 m 이기 위해서 파괴되어야 하는 바위의 개수\n",
    "        ## 거리의 최솟값의 최댓값이 유효하려면 바위 사이의 거리들중 일치하는 거리가 있어야 한다. --> 처리 안함\n",
    "        \n",
    "        if n < rock_cnt: # 파괴한 바위가 많으면  -> m 줄어야    \n",
    "            e = m - 1\n",
    "        else: # 파괴한 바위가 적거나 같을 때\n",
    "            if flag == False:\n",
    "                e = m - 1\n",
    "            else:\n",
    "                s = m + 1\n",
    "                answer = m\n",
    "    \n",
    "    return answer"
   ]
  },
  {
   "cell_type": "code",
   "execution_count": 5,
   "id": "791a23e8-ccad-4497-a252-48dbb6136af2",
   "metadata": {},
   "outputs": [],
   "source": [
    "a = float('inf')"
   ]
  },
  {
   "cell_type": "code",
   "execution_count": 7,
   "id": "985d65e2-f2b9-4a03-9881-5b08ae152028",
   "metadata": {},
   "outputs": [
    {
     "data": {
      "text/plain": [
       "True"
      ]
     },
     "execution_count": 7,
     "metadata": {},
     "output_type": "execute_result"
    }
   ],
   "source": [
    "a > 1"
   ]
  },
  {
   "cell_type": "code",
   "execution_count": null,
   "id": "60ce6786-eeb9-4a58-8bbc-df34c8f72d06",
   "metadata": {},
   "outputs": [],
   "source": []
  }
 ],
 "metadata": {
  "kernelspec": {
   "display_name": "Python 3 (ipykernel)",
   "language": "python",
   "name": "python3"
  },
  "language_info": {
   "codemirror_mode": {
    "name": "ipython",
    "version": 3
   },
   "file_extension": ".py",
   "mimetype": "text/x-python",
   "name": "python",
   "nbconvert_exporter": "python",
   "pygments_lexer": "ipython3",
   "version": "3.10.0"
  }
 },
 "nbformat": 4,
 "nbformat_minor": 5
}
