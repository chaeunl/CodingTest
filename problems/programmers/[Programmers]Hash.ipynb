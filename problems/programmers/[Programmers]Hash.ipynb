{
 "cells": [
  {
   "cell_type": "code",
   "execution_count": 6,
   "id": "7d5d7484-dce2-4348-bdca-230f85cb6c58",
   "metadata": {},
   "outputs": [
    {
     "data": {
      "text/plain": [
       "0"
      ]
     },
     "execution_count": 6,
     "metadata": {},
     "output_type": "execute_result"
    }
   ],
   "source": [
    "def solution(participant, completion):\n",
    "    d = {}\n",
    "    \n",
    "    for p in participant:\n",
    "        d[p] = d.get(p, 0) + 1\n",
    "        \n",
    "    for c in completion:\n",
    "        d[c] -= 1\n",
    "        \n",
    "    answer = [k for k,v in d.items() if v > 0][0]\n",
    "    \n",
    "    \n",
    "    return answer"
   ]
  },
  {
   "cell_type": "code",
   "execution_count": null,
   "id": "dcb80541",
   "metadata": {},
   "outputs": [],
   "source": []
  },
  {
   "cell_type": "code",
   "execution_count": null,
   "id": "07f040ec-8459-4b22-ac72-fb3a853dde4c",
   "metadata": {},
   "outputs": [],
   "source": [
    "def insertData(trie,data):\n",
    "    for d in data[:-1]:\n",
    "        trie.setdefault(d,[False,{}])\n",
    "        trie = trie[d][1]\n",
    "    trie.setdefault(data[-1],[False,{}])\n",
    "    trie[data[-1]][0]=data\n",
    "\n",
    "def findData(trie,data):\n",
    "    temp = trie\n",
    "    for d in data[:-1]:\n",
    "        if temp.get(d) : temp =temp.get(d)[1]\n",
    "        else:break\n",
    "    else: return temp.get(data[-1])\n",
    "\n",
    "def solution(phone_book):\n",
    "    phone_book.sort(reverse = True)\n",
    "    trie = {}\n",
    "    for phone in phone_book:\n",
    "        insertData(trie,phone)\n",
    "        p = findData(trie,phone)\n",
    "        if p and p[1] != {} : return False\n",
    "    return True"
   ]
  },
  {
   "cell_type": "code",
   "execution_count": 24,
   "id": "d5a83895-9143-4383-903c-ab7da448b645",
   "metadata": {},
   "outputs": [
    {
     "name": "stdout",
     "output_type": "stream",
     "text": [
      "[{}, {}, {'119': True}, {}, {}, {}, {}, {'97674223': True}, {}, {'1195524421': True}, {}, {}, {}, {}, {}, {}, {}, {}, {}, {}]\n",
      "119\n",
      "False\n",
      "[{}, {}, {'123': True, '456': True, '789': True}, {}, {}, {}, {}, {}, {}, {}, {}, {}, {}, {}, {}, {}, {}, {}, {}, {}]\n",
      "True\n"
     ]
    }
   ],
   "source": [
    "def solution_hash_1(phone_book):\n",
    "    answer = True\n",
    "    \n",
    "    ref = [{} for _ in range(20)]\n",
    "    for number in phone_book:\n",
    "        ref[len(number) - 1][number] = True\n",
    "    print(ref)\n",
    "    for number in phone_book:\n",
    "        for sub_idx in range(len(number)-1):\n",
    "            try:\n",
    "                if ref[sub_idx][number[:(sub_idx+1)]]:\n",
    "                    answer = False\n",
    "                    print(number[:(sub_idx+1)])\n",
    "            except:\n",
    "                pass\n",
    "    return answer\n",
    "\n",
    "def solution_hash_2(phone_book): \n",
    "    # 1. Hash map을 만든다 \n",
    "    hash_map = {} \n",
    "    for phone_number in phone_book: \n",
    "        hash_map[phone_number] = 1 \n",
    "        \n",
    "    # 2. 접두어가 Hash map에 존재하는지 찾는다 \n",
    "    for phone_number in phone_book: \n",
    "        jubdoo = \"\" \n",
    "        for number in phone_number: \n",
    "            jubdoo += number \n",
    "            \n",
    "            # 3. 접두어를 찾아야 한다 (기존 번호와 같은 경우 제외) \n",
    "            if jubdoo in hash_map and jubdoo != phone_number: \n",
    "                return False \n",
    "    return True\n",
    "\n",
    "print(solution([\"119\", \"97674223\", \"1195524421\"]))\n",
    "print(solution([\"123\",\"456\",\"789\"]))"
   ]
  },
  {
   "cell_type": "code",
   "execution_count": 25,
   "id": "ed96f569-b17a-4ee3-8ac6-d05e9d7b2dee",
   "metadata": {},
   "outputs": [
    {
     "data": {
      "text/plain": [
       "{0: 0, 1: 0, 2: 0}"
      ]
     },
     "execution_count": 25,
     "metadata": {},
     "output_type": "execute_result"
    }
   ],
   "source": [
    "{a:0 for a in range(3)}"
   ]
  },
  {
   "cell_type": "code",
   "execution_count": 45,
   "id": "f3925f55-a114-4819-a469-180fc8636378",
   "metadata": {},
   "outputs": [
    {
     "data": {
      "text/plain": [
       "[4, 1, 3, 0]"
      ]
     },
     "execution_count": 45,
     "metadata": {},
     "output_type": "execute_result"
    }
   ],
   "source": [
    "def solution(genres, plays):\n",
    "    answer = []\n",
    "    \n",
    "    genres_type = set(genres)\n",
    "    \n",
    "    genres_cnt = {g:0 for g in genres_type}\n",
    "    genres_best = {g:[-1, -1] for g in genres_type}\n",
    "    genres_idx = {g:[-1, -1] for g in genres_type}\n",
    "    \n",
    "    for idx, (g, p) in enumerate(zip(genres, plays)):\n",
    "        genres_cnt[g] += p\n",
    "        border_song = min(genres_best[g])\n",
    "        if p > border_song:\n",
    "            border_idx = genres_best[g].index(border_song)\n",
    "            genres_best[g][border_idx] = p\n",
    "            genres_idx[g][border_idx] = idx\n",
    "            \n",
    "    genres_best_ordered = {k:v for k,v in sorted(genres_best.items(), key=lambda item:item[1], reverse=True)}\n",
    "    \n",
    "    for g in genres_best_ordered.keys():\n",
    "        if genres_best_ordered[g][0] > genres_best_ordered[g][1]:\n",
    "            answer.extend([genres_idx[g][0], genres_idx[g][1]])\n",
    "        else:\n",
    "            answer.extend([genres_idx[g][1], genres_idx[g][0]])\n",
    "        \n",
    "    return answer\n",
    "\n",
    "solution([\"classic\", \"pop\", \"classic\", \"classic\", \"pop\"],[500, 600, 150, 800, 2500])"
   ]
  },
  {
   "cell_type": "code",
   "execution_count": null,
   "id": "5d2336be-4f7e-48f1-91e7-123a33453554",
   "metadata": {},
   "outputs": [],
   "source": []
  }
 ],
 "metadata": {
  "kernelspec": {
   "display_name": "Python 3 (ipykernel)",
   "language": "python",
   "name": "python3"
  },
  "language_info": {
   "codemirror_mode": {
    "name": "ipython",
    "version": 3
   },
   "file_extension": ".py",
   "mimetype": "text/x-python",
   "name": "python",
   "nbconvert_exporter": "python",
   "pygments_lexer": "ipython3",
   "version": "3.10.0"
  }
 },
 "nbformat": 4,
 "nbformat_minor": 5
}
