{
 "cells": [
  {
   "cell_type": "markdown",
   "id": "c6e8dd95",
   "metadata": {},
   "source": [
    "2019 KAKAO BLIND RECRUITMENT 오픈채팅방"
   ]
  },
  {
   "cell_type": "code",
   "execution_count": null,
   "id": "c6a3e45e",
   "metadata": {},
   "outputs": [],
   "source": [
    "def solution(record):\n",
    "    answer = []\n",
    "    users = {}\n",
    "    \n",
    "    for line in record:\n",
    "        cmd = line.split(\" \")\n",
    "        if cmd[0] == \"Enter\" or cmd[0] == \"Change\":\n",
    "            users[cmd[1]] = cmd[2]\n",
    "            \n",
    "    for line in record:\n",
    "        cmd = line.split(\" \")\n",
    "        if cmd[1] in users:\n",
    "            if cmd[0] == \"Enter\":\n",
    "                ko_cmd = \"들어왔습니다.\"\n",
    "            elif cmd[0] == \"Leave\":\n",
    "                ko_cmd = \"나갔습니다.\"\n",
    "            else:\n",
    "                continue\n",
    "        else:\n",
    "            continue\n",
    "        new_cmd = users[cmd[1]] + \"님이 \" + ko_cmd\n",
    "        answer.append(new_cmd)\n",
    "            \n",
    "    \n",
    "    return answer"
   ]
  },
  {
   "cell_type": "code",
   "execution_count": 2,
   "id": "8399aa9f",
   "metadata": {},
   "outputs": [
    {
     "data": {
      "text/plain": [
       "['Prodo님이 들어왔습니다.', 'Ryan님이 들어왔습니다.', 'Prodo님이 나갔습니다.', 'Prodo님이 들어왔습니다.']"
      ]
     },
     "execution_count": 2,
     "metadata": {},
     "output_type": "execute_result"
    }
   ],
   "source": [
    "solution([\"Enter uid1234 Muzi\", \"Enter uid4567 Prodo\",\"Leave uid1234\",\"Enter uid1234 Prodo\",\"Change uid4567 Ryan\"])"
   ]
  },
  {
   "cell_type": "code",
   "execution_count": 13,
   "id": "ddebb451",
   "metadata": {},
   "outputs": [],
   "source": [
    "def solution(N, stages):\n",
    "    answer = []\n",
    "    residual = len(stages)\n",
    "    stay = [0] * (N + 2)\n",
    "    fail_rates = [0.] * (N + 1)\n",
    "    \n",
    "    for s in stages:\n",
    "        stay[s] += 1\n",
    "        \n",
    "    for s, st in enumerate(stay[:-1]):\n",
    "        if s < 1:\n",
    "            continue\n",
    "        if residual < 1:\n",
    "            fail_rates[s] = 0.0\n",
    "        else:\n",
    "            fail_rates[s] = st / residual \n",
    "        residual -= st\n",
    "    \n",
    "    fail_rates = fail_rates[1:]\n",
    "    for idx, f_r in sorted(enumerate(fail_rates), key=lambda x:x[1], reverse=True):\n",
    "        answer.append(idx+1)\n",
    "            \n",
    "    return answer"
   ]
  },
  {
   "cell_type": "code",
   "execution_count": 14,
   "id": "ab30eac6",
   "metadata": {},
   "outputs": [
    {
     "data": {
      "text/plain": [
       "[4, 5, 3, 2, 1]"
      ]
     },
     "execution_count": 14,
     "metadata": {},
     "output_type": "execute_result"
    }
   ],
   "source": [
    "solution(5, [2,1,2,4,2,4,3,3])"
   ]
  },
  {
   "cell_type": "code",
   "execution_count": null,
   "id": "1d1fea9c",
   "metadata": {},
   "outputs": [],
   "source": []
  }
 ],
 "metadata": {
  "kernelspec": {
   "display_name": "Python 3 (ipykernel)",
   "language": "python",
   "name": "python3"
  },
  "language_info": {
   "codemirror_mode": {
    "name": "ipython",
    "version": 3
   },
   "file_extension": ".py",
   "mimetype": "text/x-python",
   "name": "python",
   "nbconvert_exporter": "python",
   "pygments_lexer": "ipython3",
   "version": "3.10.0"
  }
 },
 "nbformat": 4,
 "nbformat_minor": 5
}
