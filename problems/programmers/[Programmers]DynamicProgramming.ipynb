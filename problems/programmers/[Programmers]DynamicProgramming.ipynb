{
 "cells": [
  {
   "cell_type": "markdown",
   "id": "c4c022a0",
   "metadata": {},
   "source": [
    "## N으로 표현\n",
    "\n",
    "* URL: https://programmers.co.kr/learn/courses/30/lessons/42895\n",
    "* Level: 3"
   ]
  },
  {
   "cell_type": "code",
   "execution_count": 1,
   "id": "6694ef3d-8e94-45d3-816d-48bb71617c84",
   "metadata": {},
   "outputs": [],
   "source": [
    "def solution(N, number):\n",
    "    if N == number:\n",
    "        return 1\n",
    "    \n",
    "    dp = [set() for x in range(8)]\n",
    "\n",
    "    for i,x in enumerate(dp, start=1):\n",
    "        x.add( int(str(N) * i) )\n",
    "    \n",
    "    for i in range(1, 8):\n",
    "        for j in range(i):\n",
    "            for op1 in dp[j]: # 부분 문제로 쪼개기: dp[i] = dp[j] + dp[i-j-1]\n",
    "                for op2 in dp[i-j-1]:\n",
    "                    dp[i].add(op1 + op2)\n",
    "                    dp[i].add(op1 - op2)\n",
    "                    dp[i].add(op1 * op2)\n",
    "                    if op2 != 0:\n",
    "                        dp[i].add(op1 // op2)\n",
    "                        \n",
    "        if number in dp[i]:\n",
    "            answer = i + 1\n",
    "            break\n",
    "    else:\n",
    "        answer = -1\n",
    "            \n",
    "    return answer"
   ]
  },
  {
   "cell_type": "code",
   "execution_count": 2,
   "id": "476895d4-979a-4010-a55e-69fe2cbbfe88",
   "metadata": {},
   "outputs": [
    {
     "data": {
      "text/plain": [
       "4"
      ]
     },
     "execution_count": 2,
     "metadata": {},
     "output_type": "execute_result"
    }
   ],
   "source": [
    "solution(5, 12)"
   ]
  },
  {
   "cell_type": "code",
   "execution_count": null,
   "id": "b7bfd2bc-bd52-45cb-8611-fa54c18ebca8",
   "metadata": {},
   "outputs": [],
   "source": []
  }
 ],
 "metadata": {
  "kernelspec": {
   "display_name": "Python 3 (ipykernel)",
   "language": "python",
   "name": "python3"
  },
  "language_info": {
   "codemirror_mode": {
    "name": "ipython",
    "version": 3
   },
   "file_extension": ".py",
   "mimetype": "text/x-python",
   "name": "python",
   "nbconvert_exporter": "python",
   "pygments_lexer": "ipython3",
   "version": "3.10.0"
  }
 },
 "nbformat": 4,
 "nbformat_minor": 5
}
